{
 "cells": [
  {
   "cell_type": "markdown",
   "id": "c815d05f",
   "metadata": {},
   "source": [
    "# Exercise on Low Pt Electrons\n",
    "\n",
    "\n",
    "Text.\n",
    "\n",
    "Pictures.\n",
    "\n",
    "<img src=\"Pics/CMS_cross_section.png\" alt=\"CMS cross section\" width=\"800\" height=\"400\">\n",
    "\n",
    "<img src=\"Pics/dielectron_mass_with_arrows.png\" alt=\"dielectron mass with arrows\" width=\"800\" height=\"400\">\n",
    "\n",
    "| ![Z to EE](Pics/ZToEE.png) | ![J/psi to EE](Pics/JPsiToEE.png) |\n",
    "|----------------------------|-----------------------------------|\n",
    "\n",
    "<img src=\"Pics/CMS_JPsi.png\" alt=\"CMS J/psi\" width=\"800\" height=\"400\">\n"
   ]
  },
  {
   "cell_type": "code",
   "execution_count": null,
   "id": "4647d860",
   "metadata": {},
   "outputs": [],
   "source": []
  }
 ],
 "metadata": {
  "kernelspec": {
   "display_name": "Python 3",
   "language": "python",
   "name": "python3"
  },
  "language_info": {
   "codemirror_mode": {
    "name": "ipython",
    "version": 3
   },
   "file_extension": ".py",
   "mimetype": "text/x-python",
   "name": "python",
   "nbconvert_exporter": "python",
   "pygments_lexer": "ipython3",
   "version": "3.9.12"
  }
 },
 "nbformat": 4,
 "nbformat_minor": 5
}
