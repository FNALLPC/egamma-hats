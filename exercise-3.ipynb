{
 "cells": [
  {
   "cell_type": "markdown",
   "id": "c815d05f",
   "metadata": {},
   "source": [
    "# Exercise on low momentum electrons\n",
    "\n",
    "## Identifying electrons in CMS\n",
    "\n",
    "<img src=\"Pics/CMS_cross_section.png\" alt=\"CMS cross section\" width=\"800\" height=\"400\">\n",
    "\n",
    "As electrons travel through CMS, they follow a curved trajectory due to the 3.8 T magnetic field produced by the solenoid. Electrons create hits in the scilicon tracker (pixel and strip trackers) and deposit energy in the electromagnetic calorimeter (ECAL), which is composed of lead tungstate crystals. Tracking information is used to measure the momentum of electrons, as lower momentum electrons will follow a more curved trajectory, while higher momentum electrons will follow a straighter trajectory. Energy deposits in ECAL are used to measure the energy of electrons.\n",
    "\n",
    "## Comparing the Z boson and the J/psi meson\n",
    "\n",
    "<img src=\"Pics/dielectron_mass_with_arrows.png\" alt=\"dielectron mass with arrows\" width=\"800\" height=\"400\">\n",
    "\n",
    "The Z boson can decay directly to an electron-positron pair, and the J/psi meson (composed of a charm quark and a charm antiquark) can decay to an electron-positron pair through a photon mediator. However, the Z boson (mass of 91.2 GeV) is much more massive than the J/psi meson (mass of 3.1 GeV). This means that in the rest frame of the decaying particle (center-of-momentum frame), electrons decaying from a Z boson will have a much larger momentum (approx. 45.6 GeV) compared to electrons decaying from a J/psi meson (approx. 1.6 GeV).\n",
    "\n",
    "In the rest frame of the CMS detector, the electron decay will not necessarily be fully transverse, so only a fraction of the momentum will be in the transverse direction. In addition, the Z boson or J/psi meson likely have some momentum (some amount of boost) that also contributes to the momenta of electrons.\n",
    "\n",
    "## Electron tag and probe using J/psi meson decays\n",
    "\n",
    "| ![Z to EE](Pics/ZToEE.png) | ![J/psi to EE](Pics/JPsiToEE.png) |\n",
    "|----------------------------|-----------------------------------|\n",
    "\n",
    "<img src=\"Pics/CMS_JPsi.png\" alt=\"CMS J/psi\" width=\"800\" height=\"400\">\n"
   ]
  },
  {
   "cell_type": "code",
   "execution_count": null,
   "id": "4647d860",
   "metadata": {},
   "outputs": [],
   "source": []
  }
 ],
 "metadata": {
  "kernelspec": {
   "display_name": "Python 3",
   "language": "python",
   "name": "python3"
  },
  "language_info": {
   "codemirror_mode": {
    "name": "ipython",
    "version": 3
   },
   "file_extension": ".py",
   "mimetype": "text/x-python",
   "name": "python",
   "nbconvert_exporter": "python",
   "pygments_lexer": "ipython3",
   "version": "3.9.12"
  }
 },
 "nbformat": 4,
 "nbformat_minor": 5
}
