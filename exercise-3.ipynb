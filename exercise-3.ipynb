{
 "cells": [
  {
   "cell_type": "markdown",
   "id": "c815d05f",
   "metadata": {},
   "source": [
    "# Exercise on low momentum electrons\n",
    "\n",
    "## Identifying electrons in CMS\n",
    "\n",
    "<img src=\"Pics/CMS_cross_section.png\" alt=\"CMS cross section\" width=\"800\" height=\"400\">\n",
    "\n",
    "As electrons travel through CMS, they follow a curved trajectory due to the 3.8 T magnetic field produced by the solenoid. Electrons create hits in the scilicon tracker (pixel and strip trackers) and deposit energy in the electromagnetic calorimeter (ECAL), which is composed of lead tungstate crystals. Tracking information is used to measure the momentum of electrons, as lower momentum electrons will follow a more curved trajectory, while higher momentum electrons will follow a straighter trajectory. Energy deposits in ECAL are used to measure the energy of electrons.\n",
    "\n",
    "## Comparing the Z boson and the J/psi meson\n",
    "\n",
    "<img src=\"Pics/dielectron_mass_with_arrows.png\" alt=\"dielectron mass with arrows\" width=\"800\" height=\"400\">\n",
    "\n",
    "The Z boson can decay directly to an electron-positron pair, and the J/psi meson (composed of a charm quark and a charm antiquark) can decay to an electron-positron pair through a photon mediator. However, the Z boson (mass of 91.2 GeV) is much more massive than the J/psi meson (mass of 3.1 GeV). This means that in the rest frame of the decaying particle (center-of-momentum frame), electrons decaying from a Z boson will have a much larger momentum (approx. 45.6 GeV) compared to electrons decaying from a J/psi meson (approx. 1.6 GeV).\n",
    "\n",
    "In the rest frame of the CMS detector, the electron decay will not necessarily be fully transverse, so only a fraction of the momentum will be in the transverse direction. In addition, the Z boson or J/psi meson likely have some momentum (some amount of boost) that also contributes to the momenta of electrons.\n",
    "\n",
    "## Electron tag and probe using J/psi meson decays\n",
    "\n",
    "| ![Z to EE](Pics/ZToEE.png) | ![J/psi to EE](Pics/JPsiToEE.png) |\n",
    "|----------------------------|-----------------------------------|\n",
    "\n",
    "<img src=\"Pics/CMS_JPsi.png\" alt=\"CMS J/psi\" width=\"800\" height=\"400\">\n"
   ]
  },
  {
   "cell_type": "code",
   "execution_count": 2,
   "id": "4647d860",
   "metadata": {},
   "outputs": [
    {
     "data": {
      "text/plain": [
       "{'tag;1': <TObjString 'untagged' at 0x7f38a8d363c0>,\n",
       " 'Events;1': <TTree 'Events' (1782 branches) at 0x7f383341c4c0>,\n",
       " 'LuminosityBlocks;1': <TTree 'LuminosityBlocks' (6 branches) at 0x7f383341c520>,\n",
       " 'Runs;1': <TTree 'Runs' (10 branches) at 0x7f383341c610>,\n",
       " 'MetaData;1': <TTree 'MetaData' (1 branches) at 0x7f383341c760>,\n",
       " 'ParameterSets;1': <TTree 'ParameterSets' (1 branches) at 0x7f388f96e760>}"
      ]
     },
     "execution_count": 2,
     "metadata": {},
     "output_type": "execute_result"
    }
   ],
   "source": [
    "import uproot\n",
    "from glob import glob\n",
    "base_directory = '/eos/user/c/cmsdas/2024/short-ex-egm/datasets/'\n",
    "dyfiles = sorted(glob(f'{base_directory}DYto2L-2Jets_MLL-50_TuneCP5_13p6TeV-amcatnloFXFX-pythia8/*.root'))\n",
    "datafiles = sorted(glob(f'{base_directory}EGamma1_Run2023C/*.root'))\n",
    "file = uproot.open(dyfiles[0])\n",
    "dict(file)"
   ]
  },
  {
   "cell_type": "code",
   "execution_count": 3,
   "id": "a39da796",
   "metadata": {},
   "outputs": [],
   "source": [
    "from coffea.nanoevents import NanoEventsFactory\n",
    "\n",
    "dyevents = NanoEventsFactory.from_root(dyfiles[0]).events()\n",
    "dataevents = NanoEventsFactory.from_root(datafiles[0]).events()"
   ]
  },
  {
   "cell_type": "code",
   "execution_count": 16,
   "id": "4eee30b0",
   "metadata": {},
   "outputs": [
    {
     "name": "stdout",
     "output_type": "stream",
     "text": [
      "[[], [Electron], [], [], [], [], ... [], [], [Electron, Electron], [], [], []]\n",
      "[[{convVeto: True, convWP: 0, lostHits: 0, ... genPartFlav: 0, genPartIdx: -1}]]\n"
     ]
    }
   ],
   "source": [
    "# Electron collection: slimmedElectrons after basic selection (pt > 5)\n",
    "print(dyevents.Electron)\n",
    "# LowPtElectron collection: slimmedLowPtElectrons after basic selection (pt > 1. && electronID('ID') > -0.25)\n",
    "print(dyevents.LowPtElectron)"
   ]
  },
  {
   "cell_type": "code",
   "execution_count": 18,
   "id": "1cdfaf63",
   "metadata": {},
   "outputs": [
    {
     "data": {
      "text/plain": [
       "['seediEtaOriX',\n",
       " 'convVeto',\n",
       " 'cutBased',\n",
       " 'cutBased_HEEP',\n",
       " 'isPFcand',\n",
       " 'jetNDauCharged',\n",
       " 'lostHits',\n",
       " 'mvaIso_WP80',\n",
       " 'mvaIso_WP90',\n",
       " 'mvaNoIso_WP80',\n",
       " 'mvaNoIso_WP90',\n",
       " 'seedGain',\n",
       " 'tightCharge',\n",
       " 'jetIdx',\n",
       " 'photonIdx',\n",
       " 'svIdx',\n",
       " 'fsrPhotonIdx',\n",
       " 'charge',\n",
       " 'pdgId',\n",
       " 'seediPhiOriY',\n",
       " 'vidNestedWPBitmap',\n",
       " 'vidNestedWPBitmapHEEP',\n",
       " 'deltaEtaSC',\n",
       " 'dr03EcalRecHitSumEt',\n",
       " 'dr03HcalDepth1TowerSumEt',\n",
       " 'dr03TkSumPt',\n",
       " 'dr03TkSumPtHEEP',\n",
       " 'dxy',\n",
       " 'dxyErr',\n",
       " 'dz',\n",
       " 'dzErr',\n",
       " 'eInvMinusPInv',\n",
       " 'energyErr',\n",
       " 'eta',\n",
       " 'hoe',\n",
       " 'ip3d',\n",
       " 'jetPtRelv2',\n",
       " 'jetRelIso',\n",
       " 'mass',\n",
       " 'miniPFRelIso_all',\n",
       " 'miniPFRelIso_chg',\n",
       " 'mvaHZZIso',\n",
       " 'mvaIso',\n",
       " 'mvaNoIso',\n",
       " 'pfRelIso03_all',\n",
       " 'pfRelIso03_chg',\n",
       " 'phi',\n",
       " 'pt',\n",
       " 'r9',\n",
       " 'scEtOverPt',\n",
       " 'sieie',\n",
       " 'sip3d',\n",
       " 'mvaTTH',\n",
       " 'genPartFlav',\n",
       " 'genPartIdx',\n",
       " 'genPartIdxG',\n",
       " 'jetIdxG',\n",
       " 'photonIdxG']"
      ]
     },
     "execution_count": 18,
     "metadata": {},
     "output_type": "execute_result"
    }
   ],
   "source": [
    "# Electron collection variables:\n",
    "dyevents.Electron.fields"
   ]
  },
  {
   "cell_type": "code",
   "execution_count": 19,
   "id": "0ef2eb91",
   "metadata": {},
   "outputs": [
    {
     "data": {
      "text/plain": [
       "['convVeto',\n",
       " 'convWP',\n",
       " 'lostHits',\n",
       " 'electronIdx',\n",
       " 'photonIdx',\n",
       " 'charge',\n",
       " 'pdgId',\n",
       " 'ID',\n",
       " 'convVtxRadius',\n",
       " 'deltaEtaSC',\n",
       " 'dxy',\n",
       " 'dxyErr',\n",
       " 'dz',\n",
       " 'dzErr',\n",
       " 'eInvMinusPInv',\n",
       " 'energyErr',\n",
       " 'eta',\n",
       " 'hoe',\n",
       " 'mass',\n",
       " 'miniPFRelIso_all',\n",
       " 'miniPFRelIso_chg',\n",
       " 'phi',\n",
       " 'pt',\n",
       " 'ptbiased',\n",
       " 'r9',\n",
       " 'scEtOverPt',\n",
       " 'sieie',\n",
       " 'unbiased',\n",
       " 'genPartFlav',\n",
       " 'genPartIdx']"
      ]
     },
     "execution_count": 19,
     "metadata": {},
     "output_type": "execute_result"
    }
   ],
   "source": [
    "# LowPtElectron collection variables:\n",
    "dyevents.LowPtElectron.fields"
   ]
  },
  {
   "cell_type": "code",
   "execution_count": 24,
   "id": "bde3c31e",
   "metadata": {},
   "outputs": [
    {
     "data": {
      "text/plain": [
       "'cut-based ID RunIII Winter22 (0:fail, 1:veto, 2:loose, 3:medium, 4:tight)'"
      ]
     },
     "execution_count": 24,
     "metadata": {},
     "output_type": "execute_result"
    }
   ],
   "source": [
    "# Electron ID (cut based):\n",
    "dyevents.Electron.cutBased.__doc__"
   ]
  },
  {
   "cell_type": "code",
   "execution_count": 25,
   "id": "ad8427cc",
   "metadata": {},
   "outputs": [
    {
     "data": {
      "text/plain": [
       "'ID, BDT (raw) score'"
      ]
     },
     "execution_count": 25,
     "metadata": {},
     "output_type": "execute_result"
    }
   ],
   "source": [
    "# LowPtElectron ID (BDT raw score):\n",
    "dyevents.LowPtElectron.ID.__doc__"
   ]
  },
  {
   "cell_type": "code",
   "execution_count": 29,
   "id": "d04fa793",
   "metadata": {},
   "outputs": [],
   "source": [
    "# import awkward and numpy\n",
    "import awkward as ak\n",
    "import numpy as np\n",
    "\n",
    "# import and set up plotting libraries\n",
    "%matplotlib inline\n",
    "import matplotlib.pyplot as plt\n",
    "import mplhep\n",
    "mplhep.style.use(mplhep.style.CMS)"
   ]
  },
  {
   "cell_type": "code",
   "execution_count": 30,
   "id": "f8538563",
   "metadata": {},
   "outputs": [],
   "source": [
    "# run this again to make sure the figure size updates (a known bug)\n",
    "mplhep.style.use(mplhep.style.CMS)"
   ]
  },
  {
   "cell_type": "code",
   "execution_count": 54,
   "id": "3e6d7820",
   "metadata": {},
   "outputs": [
    {
     "data": {
      "text/plain": [
       "(array([    0.,     0.,     0.,     0.,     0., 34074., 24554., 19037.,\n",
       "        15490., 13321., 11998., 11170., 10120.,  9765.,  9413.,  9270.,\n",
       "         8980.,  8993.,  9219.,  9115.,  9229.,  9324.,  9612.,  9553.,\n",
       "         9730.,  9804.,  9879., 10051., 10288., 10366., 10467., 10860.,\n",
       "        10899., 10898., 10972., 11143., 11422., 11459., 11661., 11712.,\n",
       "        12001., 11871., 11903., 11573., 10915., 10224.,  8993.,  8112.,\n",
       "         6805.,  5974.]),\n",
       " array([ 0.,  1.,  2.,  3.,  4.,  5.,  6.,  7.,  8.,  9., 10., 11., 12.,\n",
       "        13., 14., 15., 16., 17., 18., 19., 20., 21., 22., 23., 24., 25.,\n",
       "        26., 27., 28., 29., 30., 31., 32., 33., 34., 35., 36., 37., 38.,\n",
       "        39., 40., 41., 42., 43., 44., 45., 46., 47., 48., 49., 50.]),\n",
       " <BarContainer object of 50 artists>)"
      ]
     },
     "execution_count": 54,
     "metadata": {},
     "output_type": "execute_result"
    },
    {
     "data": {
      "image/png": "[encoded data removed]",
      "text/plain": [
       "<Figure size 720x720 with 1 Axes>"
      ]
     },
     "metadata": {
      "needs_background": "light"
     },
     "output_type": "display_data"
    }
   ],
   "source": [
    "# Electron pT\n",
    "fig, ax = plt.subplots()\n",
    "ax.set_title(r'DY: Electron $p_{T}$')\n",
    "ax.set_xlabel(r'Electron $p_{T}$ [GeV]')\n",
    "ax.hist(ak.flatten(dyevents.Electron.pt), bins = np.linspace(0, 50, 51))"
   ]
  },
  {
   "cell_type": "code",
   "execution_count": 55,
   "id": "02d3d9d3",
   "metadata": {},
   "outputs": [
    {
     "data": {
      "text/plain": [
       "(array([     0.,  54387., 105873.,  52187.,  28170.,  17593.,  13100.,\n",
       "         10855.,   9341.,   8772.,   8301.,   8128.,   7882.,   8015.,\n",
       "          8098.,   8279.,   8435.,   8815.,   9422.,   9815.,  10089.,\n",
       "         10070.,  10213.,   9737.,   9772.,  10024.,  10133.,  10665.,\n",
       "         10699.,  10989.,  11475.,  11777.,  12257.,  12308.,  12561.,\n",
       "         12506.,  12532.,  12410.,  12104.,  11935.,  11303.,  10883.,\n",
       "         10035.,   8746.,   7527.,   6382.,   5656.,   4820.,   4088.,\n",
       "          3614.]),\n",
       " array([ 0.,  1.,  2.,  3.,  4.,  5.,  6.,  7.,  8.,  9., 10., 11., 12.,\n",
       "        13., 14., 15., 16., 17., 18., 19., 20., 21., 22., 23., 24., 25.,\n",
       "        26., 27., 28., 29., 30., 31., 32., 33., 34., 35., 36., 37., 38.,\n",
       "        39., 40., 41., 42., 43., 44., 45., 46., 47., 48., 49., 50.]),\n",
       " <BarContainer object of 50 artists>)"
      ]
     },
     "execution_count": 55,
     "metadata": {},
     "output_type": "execute_result"
    },
    {
     "data": {
      "image/png": "[encoded data removed]",
      "text/plain": [
       "<Figure size 720x720 with 1 Axes>"
      ]
     },
     "metadata": {
      "needs_background": "light"
     },
     "output_type": "display_data"
    }
   ],
   "source": [
    "# LowPtElectron pT\n",
    "fig, ax = plt.subplots()\n",
    "ax.set_title(r'DY: LowPtElectron $p_{T}$')\n",
    "ax.set_xlabel(r'LowPtElectron $p_{T}$ [GeV]')\n",
    "ax.hist(ak.flatten(dyevents.LowPtElectron.pt), bins = np.linspace(0, 50, 51))"
   ]
  },
  {
   "cell_type": "code",
   "execution_count": 56,
   "id": "d2aad2ee",
   "metadata": {},
   "outputs": [
    {
     "data": {
      "text/plain": [
       "array([ 0.,  1.,  2.,  3.,  4.,  5.,  6.,  7.,  8.,  9., 10., 11., 12.,\n",
       "       13., 14., 15., 16., 17., 18., 19., 20., 21., 22., 23., 24., 25.,\n",
       "       26., 27., 28., 29., 30., 31., 32., 33., 34., 35., 36., 37., 38.,\n",
       "       39., 40., 41., 42., 43., 44., 45., 46., 47., 48., 49., 50.])"
      ]
     },
     "execution_count": 56,
     "metadata": {},
     "output_type": "execute_result"
    }
   ],
   "source": [
    "np.linspace(0, 50, 51)"
   ]
  },
  {
   "cell_type": "code",
   "execution_count": null,
   "id": "6a2efa0c",
   "metadata": {},
   "outputs": [],
   "source": []
  }
 ],
 "metadata": {
  "kernelspec": {
   "display_name": "Python 3",
   "language": "python",
   "name": "python3"
  },
  "language_info": {
   "codemirror_mode": {
    "name": "ipython",
    "version": 3
   },
   "file_extension": ".py",
   "mimetype": "text/x-python",
   "name": "python",
   "nbconvert_exporter": "python",
   "pygments_lexer": "ipython3",
   "version": "3.9.12"
  }
 },
 "nbformat": 4,
 "nbformat_minor": 5
}
