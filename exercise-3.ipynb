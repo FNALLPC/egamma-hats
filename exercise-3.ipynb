{
 "cells": [
  {
   "cell_type": "markdown",
   "id": "10a2c096",
   "metadata": {},
   "source": [
    "# Exercise on Low Pt Electrons\n",
    "\n",
    "Text.\n",
    "\n",
    "Pictures.\n",
    "\n",
    "<img src=\"Pics/CMS_cross_section.png\" alt=\"CMS cross section\" width=\"800\" height=\"400\">\n",
    "\n",
    "<img src=\"Pics/CMS_JPsi.png\" alt=\"CMS J/psi\" width=\"800\" height=\"400\">\n"
   ]
  },
  {
   "cell_type": "code",
   "execution_count": null,
   "id": "5e8f2f66",
   "metadata": {},
   "outputs": [],
   "source": []
  }
 ],
 "metadata": {
  "kernelspec": {
   "display_name": "Python 3",
   "language": "python",
   "name": "python3"
  },
  "language_info": {
   "codemirror_mode": {
    "name": "ipython",
    "version": 3
   },
   "file_extension": ".py",
   "mimetype": "text/x-python",
   "name": "python",
   "nbconvert_exporter": "python",
   "pygments_lexer": "ipython3",
   "version": "3.9.12"
  }
 },
 "nbformat": 4,
 "nbformat_minor": 5
}
